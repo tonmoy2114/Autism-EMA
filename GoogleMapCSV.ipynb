{
 "cells": [
  {
   "cell_type": "code",
   "execution_count": 1,
   "metadata": {},
   "outputs": [],
   "source": [
    "import json\n",
    "import csv\n",
    "import datetime\n",
    "import os\n",
    "from datetime import date"
   ]
  },
  {
   "cell_type": "code",
   "execution_count": 2,
   "metadata": {},
   "outputs": [],
   "source": [
    "def createCSVForMap(filename, participant, startdate, totalDays):\n",
    "    data = json.load(open(filename))\n",
    "    daysFile = []\n",
    "    loc_dir = 'userdata/' + participant+ '/location'\n",
    "    if not os.path.isdir(loc_dir):\n",
    "        print('new directry has been created')\n",
    "        os.makedirs(loc_dir)\n",
    "    for i in range(totalDays):\n",
    "        dest = loc_dir + '/day ' + str(i+1) + '.csv'\n",
    "        daysFile.append(open(dest, 'w+'))\n",
    "\n",
    "    header = \"Latitude, longitude, Accuracy,Altitude, Provider, Speed, Time, Day, Hour, Day_time,Comments\\n\"\n",
    "\n",
    "    #daysFile = [day1File,day2File,day3File,day4File,day5File]\n",
    "    for file in daysFile:\n",
    "        file.write(header)\n",
    "\n",
    "    for item in data[\"location\"].values():\n",
    "        d = datetime.datetime.fromtimestamp(float(item[\"timeUTC\"])/1000.0)\n",
    "        line = \"\"\n",
    "        line = line + item['latitude']+\",\"\n",
    "        line = line + item['longitude']+\",\"\n",
    "        line = line + item['accuracy']+\",\"\n",
    "        line = line + item['altitude']+\",\"\n",
    "        line = line + item['provider']+\",\"\n",
    "        line = line + item['speed']+\",\"\n",
    "        line = line + item['time']+\",\"\n",
    "        line = line + str(d.day)+\",\"\n",
    "        line = line + str(d.hour)+\",\"\n",
    "        float(item['latitude'])\n",
    "        if d.hour < 6:\n",
    "            line = line +\"Night\"\n",
    "        elif d.hour < 11:\n",
    "            line = line +\"Morning\"\n",
    "        elif d.hour < 15:\n",
    "            line = line +\"Noon\"\n",
    "        elif d.hour < 18:\n",
    "            line = line +\"Evening\"\n",
    "        elif d.hour < 24:\n",
    "            line = line +\"Night\"\n",
    "        else:\n",
    "            print(\"Extra\")\n",
    "        line = line +(\"\\n\")\n",
    "        daysFile[(d-startdate).days].write(line)\n",
    "    for file in daysFile:\n",
    "        file.close()\n",
    "    return"
   ]
  },
  {
   "cell_type": "code",
   "execution_count": 5,
   "metadata": {},
   "outputs": [
    {
     "name": "stdout",
     "output_type": "stream",
     "text": [
      "new directry has been created\n"
     ]
    }
   ],
   "source": [
    "date = datetime.datetime.strptime('26 Mar 2018', '%d %b %Y')\n",
    "createCSVForMap('alex_edgeworth_autismema-WYBlm3JdMDZhgUzfNSlGrnXcueA2-export.json', 'alex_edgeworth',date,17)"
   ]
  },
  {
   "cell_type": "code",
   "execution_count": null,
   "metadata": {},
   "outputs": [],
   "source": []
  }
 ],
 "metadata": {
  "kernelspec": {
   "display_name": "Python 3",
   "language": "python",
   "name": "python3"
  },
  "language_info": {
   "codemirror_mode": {
    "name": "ipython",
    "version": 3
   },
   "file_extension": ".py",
   "mimetype": "text/x-python",
   "name": "python",
   "nbconvert_exporter": "python",
   "pygments_lexer": "ipython3",
   "version": "3.6.4"
  }
 },
 "nbformat": 4,
 "nbformat_minor": 2
}
